{
 "cells": [
  {
   "cell_type": "code",
   "execution_count": 1,
   "id": "2b7120bd-4ae7-4560-93bd-918e2f8a763c",
   "metadata": {},
   "outputs": [],
   "source": [
    "# Lambdas are 1 LINE function!\n",
    "# traditional functions require a JUMP in memory to go to another address, execute themseleves, and then jump back to the \n",
    "# original address!\n",
    "# Lambdas operate without JUMPING meaning -> you will have faster execution\n",
    "# ONLY 1 LINE!\n"
   ]
  },
  {
   "cell_type": "code",
   "execution_count": 2,
   "id": "beef34e2-75c9-48d4-9425-7670047ba8b8",
   "metadata": {},
   "outputs": [
    {
     "data": {
      "text/plain": [
       "43"
      ]
     },
     "execution_count": 2,
     "metadata": {},
     "output_type": "execute_result"
    }
   ],
   "source": [
    "# syntax \n",
    "# lambda_function = lambda input : what to do with input and return!\n",
    "\n",
    "add1 = lambda x : x + 1\n",
    "\n",
    "add1(42)"
   ]
  },
  {
   "cell_type": "code",
   "execution_count": 3,
   "id": "94feb067-ae41-4d58-99d5-31cca1b2523d",
   "metadata": {},
   "outputs": [],
   "source": [
    "def power(x):\n",
    "    return lambda y: y**x \n",
    "\n",
    "square = power(2) # lambda y: y**2\n",
    "cube = power(3) # lambda y : y**3\n",
    "twentysixpower = power(26) # lambda y: y**26"
   ]
  },
  {
   "cell_type": "code",
   "execution_count": 4,
   "id": "dc72df80-b341-48af-aae5-31f5a32c8db1",
   "metadata": {},
   "outputs": [
    {
     "data": {
      "text/plain": [
       "4"
      ]
     },
     "execution_count": 4,
     "metadata": {},
     "output_type": "execute_result"
    }
   ],
   "source": [
    "square(2)"
   ]
  },
  {
   "cell_type": "code",
   "execution_count": 5,
   "id": "ff8d9401-2b4c-4bf8-8b97-77e16d2a8a80",
   "metadata": {},
   "outputs": [
    {
     "data": {
      "text/plain": [
       "256"
      ]
     },
     "execution_count": 5,
     "metadata": {},
     "output_type": "execute_result"
    }
   ],
   "source": [
    "square(16)"
   ]
  },
  {
   "cell_type": "code",
   "execution_count": 6,
   "id": "88ceb761-6554-425c-a97c-de822077feeb",
   "metadata": {},
   "outputs": [
    {
     "data": {
      "text/plain": [
       "27"
      ]
     },
     "execution_count": 6,
     "metadata": {},
     "output_type": "execute_result"
    }
   ],
   "source": [
    "cube(3)"
   ]
  },
  {
   "cell_type": "code",
   "execution_count": 7,
   "id": "9663f605-4407-4f6b-a9ff-3838cf0821f6",
   "metadata": {},
   "outputs": [
    {
     "data": {
      "text/plain": [
       "1771561"
      ]
     },
     "execution_count": 7,
     "metadata": {},
     "output_type": "execute_result"
    }
   ],
   "source": [
    "cube(121)"
   ]
  },
  {
   "cell_type": "code",
   "execution_count": 8,
   "id": "facf8340-f47e-457e-b3c4-fc23a96934e4",
   "metadata": {},
   "outputs": [
    {
     "data": {
      "text/plain": [
       "1490116119384765625"
      ]
     },
     "execution_count": 8,
     "metadata": {},
     "output_type": "execute_result"
    }
   ],
   "source": [
    "twentysixpower(5)"
   ]
  },
  {
   "cell_type": "code",
   "execution_count": 11,
   "id": "5aa3578f-18fc-40ac-89f0-67ec34c96034",
   "metadata": {},
   "outputs": [
    {
     "data": {
      "text/plain": [
       "[1, 4, 9, 16, 25, 36, 49]"
      ]
     },
     "execution_count": 11,
     "metadata": {},
     "output_type": "execute_result"
    }
   ],
   "source": [
    "# LIST COMPREHENSION \n",
    "mylist = [1,2,3,4,5,6,7]\n",
    "adder = lambda x: x*x\n",
    "\n",
    "\n",
    "# syntax \n",
    "# output_list = [ what_to_do_with_loop_variable for loop_variable in input_list]\n",
    "\n",
    "\n",
    "newlist = [ adder(num) for num in mylist]\n",
    "newlist"
   ]
  },
  {
   "cell_type": "code",
   "execution_count": null,
   "id": "111f1ed8-6de1-4612-80ca-26285b4f0a6a",
   "metadata": {},
   "outputs": [],
   "source": []
  }
 ],
 "metadata": {
  "kernelspec": {
   "display_name": "Python 3.8 - AzureML",
   "language": "python",
   "name": "python38-azureml"
  },
  "language_info": {
   "codemirror_mode": {
    "name": "ipython",
    "version": 3
   },
   "file_extension": ".py",
   "mimetype": "text/x-python",
   "name": "python",
   "nbconvert_exporter": "python",
   "pygments_lexer": "ipython3",
   "version": "3.8.5"
  }
 },
 "nbformat": 4,
 "nbformat_minor": 5
}
