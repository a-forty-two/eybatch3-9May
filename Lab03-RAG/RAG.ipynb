{
  "cells": [
    {
      "cell_type": "code",
      "source": [
        "!pip install openai==1.13.3"
      ],
      "outputs": [],
      "execution_count": null,
      "metadata": {
        "jupyter": {
          "source_hidden": false,
          "outputs_hidden": false
        },
        "nteract": {
          "transient": {
            "deleting": false
          }
        }
      }
    },
    {
      "cell_type": "code",
      "source": [
        "# Add Azure OpenAI package\n",
        "from openai import AzureOpenAI"
      ],
      "outputs": [],
      "execution_count": null,
      "metadata": {
        "gather": {
          "logged": 1712392098283
        }
      }
    },
    {
      "cell_type": "code",
      "source": [
        "import json\n",
        "\n",
        "# Flag to show citations\n",
        "show_citations = True\n",
        "\n",
        "# Get configuration settings \n",
        "azure_oai_endpoint =\"https://pikachuopenai.openai.azure.com/\"\n",
        "azure_oai_key =\"988bbde8b4e44c7096019a96d360fb28\"\n",
        "azure_oai_deployment =\"gpt-35-turbo-16k\"\n",
        "azure_search_endpoint = \"https://pikachuopenaisearch.search.windows.net\"\n",
        "azure_search_key = \"5oF4Tn11CRFTULVe1VSH6qiRZnJ9YaC6ff4qzGds07AzSeCLbtK6\"\n",
        "azure_search_index = \"margiestravel\""
      ],
      "outputs": [],
      "execution_count": null,
      "metadata": {
        "jupyter": {
          "source_hidden": false,
          "outputs_hidden": false
        },
        "nteract": {
          "transient": {
            "deleting": false
          }
        },
        "gather": {
          "logged": 1712392099428
        }
      }
    },
    {
      "cell_type": "code",
      "source": [
        "# Initialize the Azure OpenAI client\n",
        "client = AzureOpenAI(\n",
        "            base_url=f\"{azure_oai_endpoint}/openai/deployments/{azure_oai_deployment}/extensions\",\n",
        "            api_key=azure_oai_key,\n",
        "            api_version=\"2023-09-01-preview\")"
      ],
      "outputs": [],
      "execution_count": null,
      "metadata": {
        "jupyter": {
          "source_hidden": false,
          "outputs_hidden": false
        },
        "nteract": {
          "transient": {
            "deleting": false
          }
        },
        "gather": {
          "logged": 1712392100502
        }
      }
    },
    {
      "cell_type": "code",
      "source": [
        "# Configure your data source\n",
        "extension_config = dict(dataSources = [  \n",
        "        { \n",
        "            \"type\": \"AzureCognitiveSearch\", \n",
        "            \"parameters\": { \n",
        "                \"endpoint\":azure_search_endpoint, \n",
        "                \"key\": azure_search_key, \n",
        "                \"indexName\": azure_search_index,\n",
        "            }\n",
        "        }]\n",
        "    )"
      ],
      "outputs": [],
      "execution_count": null,
      "metadata": {
        "jupyter": {
          "source_hidden": false,
          "outputs_hidden": false
        },
        "nteract": {
          "transient": {
            "deleting": false
          }
        },
        "gather": {
          "logged": 1712392101499
        }
      }
    },
    {
      "cell_type": "code",
      "source": [
        "# Get the prompt\n",
        "text = input('\\nEnter a question:\\n')"
      ],
      "outputs": [],
      "execution_count": null,
      "metadata": {
        "jupyter": {
          "source_hidden": false,
          "outputs_hidden": false
        },
        "nteract": {
          "transient": {
            "deleting": false
          }
        },
        "gather": {
          "logged": 1712392139105
        }
      }
    },
    {
      "cell_type": "code",
      "source": [
        "# Send request to Azure OpenAI model\n",
        "print(\"...Sending the following request to Azure OpenAI endpoint...\")\n",
        "print(\"Request: \" + text + \"\\n\")\n",
        "\n",
        "response = client.chat.completions.create(\n",
        "    model = azure_oai_deployment,\n",
        "    temperature = 0.5,\n",
        "    max_tokens = 1000,\n",
        "    messages = [\n",
        "         {\"role\": \"system\", \"content\": \"You are a helpful travel agent\"},\n",
        "         {\"role\": \"user\", \"content\": text}\n",
        "            ],\n",
        "            extra_body = extension_config\n",
        "        )"
      ],
      "outputs": [],
      "execution_count": null,
      "metadata": {
        "jupyter": {
          "source_hidden": false,
          "outputs_hidden": false
        },
        "nteract": {
          "transient": {
            "deleting": false
          }
        },
        "gather": {
          "logged": 1712392142167
        }
      }
    },
    {
      "cell_type": "code",
      "source": [
        "# Print response\n",
        "print(\"Response: \" + response.choices[0].message.content + \"\\n\")"
      ],
      "outputs": [],
      "execution_count": null,
      "metadata": {
        "jupyter": {
          "source_hidden": false,
          "outputs_hidden": false
        },
        "nteract": {
          "transient": {
            "deleting": false
          }
        },
        "gather": {
          "logged": 1712392342071
        }
      }
    },
    {
      "cell_type": "code",
      "source": [
        "#Check for the citations\n",
        "if (show_citations):\n",
        "    # Print citations\n",
        "    print(\"Citations:\")\n",
        "    citations = response.choices[0].message.context[\"messages\"][0][\"content\"]\n",
        "    citation_json = json.loads(citations)\n",
        "    for c in citation_json[\"citations\"]:\n",
        "        print(\"  Title: \" + c['title'] + \"\\n    URL: \" + c['url'])"
      ],
      "outputs": [],
      "execution_count": null,
      "metadata": {
        "jupyter": {
          "source_hidden": false,
          "outputs_hidden": false
        },
        "nteract": {
          "transient": {
            "deleting": false
          }
        },
        "gather": {
          "logged": 1712392291521
        }
      }
    },
    {
      "cell_type": "code",
      "source": [],
      "outputs": [],
      "execution_count": null,
      "metadata": {
        "jupyter": {
          "source_hidden": false,
          "outputs_hidden": false
        },
        "nteract": {
          "transient": {
            "deleting": false
          }
        }
      }
    }
  ],
  "metadata": {
    "kernelspec": {
      "name": "python38-azureml",
      "language": "python",
      "display_name": "Python 3.8 - AzureML"
    },
    "language_info": {
      "name": "python",
      "version": "3.8.5",
      "mimetype": "text/x-python",
      "codemirror_mode": {
        "name": "ipython",
        "version": 3
      },
      "pygments_lexer": "ipython3",
      "nbconvert_exporter": "python",
      "file_extension": ".py"
    },
    "microsoft": {
      "ms_spell_check": {
        "ms_spell_check_language": "en"
      },
      "host": {
        "AzureML": {
          "notebookHasBeenCompleted": true
        }
      }
    },
    "kernel_info": {
      "name": "python38-azureml"
    },
    "nteract": {
      "version": "nteract-front-end@1.0.0"
    }
  },
  "nbformat": 4,
  "nbformat_minor": 2
}